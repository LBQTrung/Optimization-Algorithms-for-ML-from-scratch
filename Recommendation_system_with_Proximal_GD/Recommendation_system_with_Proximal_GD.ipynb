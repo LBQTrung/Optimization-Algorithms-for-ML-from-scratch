{
 "cells": [
  {
   "cell_type": "markdown",
   "metadata": {},
   "source": [
    "### 1. Import các thư viện cần thiết"
   ]
  },
  {
   "cell_type": "code",
   "execution_count": 41,
   "metadata": {},
   "outputs": [],
   "source": [
    "import pandas as pd\n",
    "import numpy as np\n",
    "import matplotlib.pyplot as plt"
   ]
  },
  {
   "cell_type": "markdown",
   "metadata": {},
   "source": [
    "### 2. Mô tả, phân tích tập dữ liệu"
   ]
  },
  {
   "cell_type": "markdown",
   "metadata": {},
   "source": [
    "Bộ dữ liệu Movielens thông thường sẽ gồm 3 dataframes chính users, movies và ratings lần lượt chứa thông tin của người dùng, bộ phim và các đánh giá. Vì mục đích minh họa nhanh thuật toán, em sẽ dùng tập dữ liệu movielens 100k để gọn nhẹ hơn."
   ]
  },
  {
   "cell_type": "markdown",
   "metadata": {},
   "source": [
    "#### 2.1 Rating"
   ]
  },
  {
   "cell_type": "markdown",
   "metadata": {},
   "source": [
    "Dưới đây là 10 dòng đầu tiên của rating. Dữ liệu rating bao gồm thông tin về mã người dugnf userID, mã phim MovieID, đánh giá trong thang điểm 5 và thời điểm đánh giá Timestamp"
   ]
  },
  {
   "cell_type": "code",
   "execution_count": 131,
   "metadata": {},
   "outputs": [
    {
     "data": {
      "text/html": [
       "<div>\n",
       "<style scoped>\n",
       "    .dataframe tbody tr th:only-of-type {\n",
       "        vertical-align: middle;\n",
       "    }\n",
       "\n",
       "    .dataframe tbody tr th {\n",
       "        vertical-align: top;\n",
       "    }\n",
       "\n",
       "    .dataframe thead th {\n",
       "        text-align: right;\n",
       "    }\n",
       "</style>\n",
       "<table border=\"1\" class=\"dataframe\">\n",
       "  <thead>\n",
       "    <tr style=\"text-align: right;\">\n",
       "      <th></th>\n",
       "      <th>userId</th>\n",
       "      <th>movieId</th>\n",
       "      <th>rating</th>\n",
       "      <th>timestamp</th>\n",
       "    </tr>\n",
       "  </thead>\n",
       "  <tbody>\n",
       "    <tr>\n",
       "      <th>0</th>\n",
       "      <td>1</td>\n",
       "      <td>1</td>\n",
       "      <td>4.0</td>\n",
       "      <td>964982703</td>\n",
       "    </tr>\n",
       "    <tr>\n",
       "      <th>1</th>\n",
       "      <td>1</td>\n",
       "      <td>3</td>\n",
       "      <td>4.0</td>\n",
       "      <td>964981247</td>\n",
       "    </tr>\n",
       "    <tr>\n",
       "      <th>2</th>\n",
       "      <td>1</td>\n",
       "      <td>6</td>\n",
       "      <td>4.0</td>\n",
       "      <td>964982224</td>\n",
       "    </tr>\n",
       "    <tr>\n",
       "      <th>3</th>\n",
       "      <td>1</td>\n",
       "      <td>47</td>\n",
       "      <td>5.0</td>\n",
       "      <td>964983815</td>\n",
       "    </tr>\n",
       "    <tr>\n",
       "      <th>4</th>\n",
       "      <td>1</td>\n",
       "      <td>50</td>\n",
       "      <td>5.0</td>\n",
       "      <td>964982931</td>\n",
       "    </tr>\n",
       "    <tr>\n",
       "      <th>5</th>\n",
       "      <td>1</td>\n",
       "      <td>70</td>\n",
       "      <td>3.0</td>\n",
       "      <td>964982400</td>\n",
       "    </tr>\n",
       "    <tr>\n",
       "      <th>6</th>\n",
       "      <td>1</td>\n",
       "      <td>101</td>\n",
       "      <td>5.0</td>\n",
       "      <td>964980868</td>\n",
       "    </tr>\n",
       "    <tr>\n",
       "      <th>7</th>\n",
       "      <td>1</td>\n",
       "      <td>110</td>\n",
       "      <td>4.0</td>\n",
       "      <td>964982176</td>\n",
       "    </tr>\n",
       "    <tr>\n",
       "      <th>8</th>\n",
       "      <td>1</td>\n",
       "      <td>151</td>\n",
       "      <td>5.0</td>\n",
       "      <td>964984041</td>\n",
       "    </tr>\n",
       "    <tr>\n",
       "      <th>9</th>\n",
       "      <td>1</td>\n",
       "      <td>157</td>\n",
       "      <td>5.0</td>\n",
       "      <td>964984100</td>\n",
       "    </tr>\n",
       "  </tbody>\n",
       "</table>\n",
       "</div>"
      ],
      "text/plain": [
       "   userId  movieId  rating  timestamp\n",
       "0       1        1     4.0  964982703\n",
       "1       1        3     4.0  964981247\n",
       "2       1        6     4.0  964982224\n",
       "3       1       47     5.0  964983815\n",
       "4       1       50     5.0  964982931\n",
       "5       1       70     3.0  964982400\n",
       "6       1      101     5.0  964980868\n",
       "7       1      110     4.0  964982176\n",
       "8       1      151     5.0  964984041\n",
       "9       1      157     5.0  964984100"
      ]
     },
     "execution_count": 131,
     "metadata": {},
     "output_type": "execute_result"
    }
   ],
   "source": [
    "ratings = pd.read_csv('ratings.csv')\n",
    "ratings.head(10)"
   ]
  },
  {
   "cell_type": "markdown",
   "metadata": {},
   "source": [
    "Vẽ biểu đồ phân phối cho cột rating:"
   ]
  },
  {
   "cell_type": "code",
   "execution_count": 69,
   "metadata": {},
   "outputs": [
    {
     "data": {
      "text/plain": [
       "<AxesSubplot:ylabel='Frequency'>"
      ]
     },
     "execution_count": 69,
     "metadata": {},
     "output_type": "execute_result"
    },
    {
     "data": {
      "image/png": "[encoded data removed]",
      "text/plain": [
       "<Figure size 432x288 with 1 Axes>"
      ]
     },
     "metadata": {
      "needs_background": "light"
     },
     "output_type": "display_data"
    }
   ],
   "source": [
    "ratings['rating'].plot.hist()"
   ]
  },
  {
   "cell_type": "markdown",
   "metadata": {},
   "source": [
    "Biểu đồ trên cho ta thấy điểm 4 được đánh giá nhiều nhất trong khi các điểm 1 và 2 có ít lượng đánh giá nhất. Điều này có thể được giải thích bằng sự thật là người dùng thường đánh giá khi họ rất thích một bộ phim, khi họ không thực sự thích, họ sẽ ít ra đánh giá hơn"
   ]
  },
  {
   "cell_type": "markdown",
   "metadata": {},
   "source": [
    "#### 2.2 Dữ liệu bộ phim"
   ]
  },
  {
   "cell_type": "code",
   "execution_count": 70,
   "metadata": {},
   "outputs": [
    {
     "name": "stdout",
     "output_type": "stream",
     "text": [
      "<class 'pandas.core.frame.DataFrame'>\n",
      "RangeIndex: 9742 entries, 0 to 9741\n",
      "Data columns (total 3 columns):\n",
      " #   Column   Non-Null Count  Dtype \n",
      "---  ------   --------------  ----- \n",
      " 0   movieId  9742 non-null   int64 \n",
      " 1   title    9742 non-null   object\n",
      " 2   genres   9742 non-null   object\n",
      "dtypes: int64(1), object(2)\n",
      "memory usage: 228.5+ KB\n"
     ]
    }
   ],
   "source": [
    "movies = pd.read_csv('movies.csv')\n",
    "movies.info()"
   ]
  },
  {
   "cell_type": "code",
   "execution_count": 53,
   "metadata": {},
   "outputs": [
    {
     "data": {
      "text/html": [
       "<div>\n",
       "<style scoped>\n",
       "    .dataframe tbody tr th:only-of-type {\n",
       "        vertical-align: middle;\n",
       "    }\n",
       "\n",
       "    .dataframe tbody tr th {\n",
       "        vertical-align: top;\n",
       "    }\n",
       "\n",
       "    .dataframe thead th {\n",
       "        text-align: right;\n",
       "    }\n",
       "</style>\n",
       "<table border=\"1\" class=\"dataframe\">\n",
       "  <thead>\n",
       "    <tr style=\"text-align: right;\">\n",
       "      <th></th>\n",
       "      <th>movieId</th>\n",
       "      <th>title</th>\n",
       "      <th>genres</th>\n",
       "    </tr>\n",
       "  </thead>\n",
       "  <tbody>\n",
       "    <tr>\n",
       "      <th>0</th>\n",
       "      <td>1</td>\n",
       "      <td>Toy Story (1995)</td>\n",
       "      <td>Adventure|Animation|Children|Comedy|Fantasy</td>\n",
       "    </tr>\n",
       "    <tr>\n",
       "      <th>1</th>\n",
       "      <td>2</td>\n",
       "      <td>Jumanji (1995)</td>\n",
       "      <td>Adventure|Children|Fantasy</td>\n",
       "    </tr>\n",
       "    <tr>\n",
       "      <th>2</th>\n",
       "      <td>3</td>\n",
       "      <td>Grumpier Old Men (1995)</td>\n",
       "      <td>Comedy|Romance</td>\n",
       "    </tr>\n",
       "    <tr>\n",
       "      <th>3</th>\n",
       "      <td>4</td>\n",
       "      <td>Waiting to Exhale (1995)</td>\n",
       "      <td>Comedy|Drama|Romance</td>\n",
       "    </tr>\n",
       "    <tr>\n",
       "      <th>4</th>\n",
       "      <td>5</td>\n",
       "      <td>Father of the Bride Part II (1995)</td>\n",
       "      <td>Comedy</td>\n",
       "    </tr>\n",
       "    <tr>\n",
       "      <th>5</th>\n",
       "      <td>6</td>\n",
       "      <td>Heat (1995)</td>\n",
       "      <td>Action|Crime|Thriller</td>\n",
       "    </tr>\n",
       "    <tr>\n",
       "      <th>6</th>\n",
       "      <td>7</td>\n",
       "      <td>Sabrina (1995)</td>\n",
       "      <td>Comedy|Romance</td>\n",
       "    </tr>\n",
       "    <tr>\n",
       "      <th>7</th>\n",
       "      <td>8</td>\n",
       "      <td>Tom and Huck (1995)</td>\n",
       "      <td>Adventure|Children</td>\n",
       "    </tr>\n",
       "    <tr>\n",
       "      <th>8</th>\n",
       "      <td>9</td>\n",
       "      <td>Sudden Death (1995)</td>\n",
       "      <td>Action</td>\n",
       "    </tr>\n",
       "    <tr>\n",
       "      <th>9</th>\n",
       "      <td>10</td>\n",
       "      <td>GoldenEye (1995)</td>\n",
       "      <td>Action|Adventure|Thriller</td>\n",
       "    </tr>\n",
       "  </tbody>\n",
       "</table>\n",
       "</div>"
      ],
      "text/plain": [
       "   movieId                               title  \\\n",
       "0        1                    Toy Story (1995)   \n",
       "1        2                      Jumanji (1995)   \n",
       "2        3             Grumpier Old Men (1995)   \n",
       "3        4            Waiting to Exhale (1995)   \n",
       "4        5  Father of the Bride Part II (1995)   \n",
       "5        6                         Heat (1995)   \n",
       "6        7                      Sabrina (1995)   \n",
       "7        8                 Tom and Huck (1995)   \n",
       "8        9                 Sudden Death (1995)   \n",
       "9       10                    GoldenEye (1995)   \n",
       "\n",
       "                                        genres  \n",
       "0  Adventure|Animation|Children|Comedy|Fantasy  \n",
       "1                   Adventure|Children|Fantasy  \n",
       "2                               Comedy|Romance  \n",
       "3                         Comedy|Drama|Romance  \n",
       "4                                       Comedy  \n",
       "5                        Action|Crime|Thriller  \n",
       "6                               Comedy|Romance  \n",
       "7                           Adventure|Children  \n",
       "8                                       Action  \n",
       "9                    Action|Adventure|Thriller  "
      ]
     },
     "execution_count": 53,
     "metadata": {},
     "output_type": "execute_result"
    }
   ],
   "source": [
    "movies.head(10)"
   ]
  },
  {
   "cell_type": "markdown",
   "metadata": {},
   "source": [
    "Tập dữ liệu 9742 bộ phim với các thông tin về id, tiêu đề (title) và thuộc các thể loại (genres)"
   ]
  },
  {
   "cell_type": "markdown",
   "metadata": {},
   "source": [
    "### 3. Cơ sở lý thuyết"
   ]
  },
  {
   "cell_type": "markdown",
   "metadata": {},
   "source": [
    "Để xây dựng được Hệ thống đề xuất firm với Matrix factorization và Proximal Gradient Descent, ta cần nắm:\n",
    "- Hệ thống đề xuất Matrix Factorization \n",
    "- Proximal Gradient Descent"
   ]
  },
  {
   "cell_type": "markdown",
   "metadata": {},
   "source": [
    "#### 3.1 Hệ thống đề xuất Matrix Factorization"
   ]
  },
  {
   "attachments": {
    "image.png": {
     "image/png": "[encoded data removed]"
    }
   },
   "cell_type": "markdown",
   "metadata": {},
   "source": [
    "Hệ thống đề xuất có thể hiểu đơn giản là bài toán điền vào ma trận Utility sau:\n",
    "![image.png](attachment:image.png)"
   ]
  },
  {
   "cell_type": "markdown",
   "metadata": {},
   "source": [
    "Trong đó:\n",
    "- Mỗi hàng thể hiện một người dùng\n",
    "- Mỗi cột thể hiện một sản phẩm\n",
    "- Mỗi chấm đen thể hiện mức độ quan tâm của người dùng tới sản phẩm tương ứng"
   ]
  },
  {
   "cell_type": "markdown",
   "metadata": {},
   "source": [
    "Có nhiều cách tiếp cận cho bài toán trên, nhưng một cách đơn giản nhưng lại hiệu quả hơn khá nhiều so với cách truyền thống (Content-based) là **Matrix Factorization**. Phương pháp này xấp xỉ các giá trị đã biết trong ma trận utility thành tích của hai ma trận có chiều thấp hơn."
   ]
  },
  {
   "cell_type": "markdown",
   "metadata": {},
   "source": [
    "Với một người dùng j và sản phẩm j với vector đặc trưng lần lượt là $w_i$ và $x_j$, sự quan tâm của người dùng tới sản phẩm đó có thể được biểu diễn:\n",
    "$$\\hat{y}_{ij} \\approx \\mathbf{w}_i^T \\mathbf{x}_j + b_i + d_j + a ~~~~~(1)$$"
   ]
  },
  {
   "cell_type": "markdown",
   "metadata": {},
   "source": [
    "Trong đó:\n",
    "- $b_i$ là bias ứng với người dùng ($w_i$)\n",
    "- $d_j$ là bias ứng với sản phẩm ($x_j$)\n",
    "- $a$ là hệ số tự do thể hiện thiên hướng chung của bộ dữ liệu (thường là kỳ vọng)"
   ]
  },
  {
   "cell_type": "markdown",
   "metadata": {},
   "source": [
    "Hàm mất mát tương tự với hồi quy tuyến tính (có thể áp dụng regularization):\n",
    "$$\\mathcal{L}(\\mathbf{X}, \\mathbf{W}) = \\frac{1}{2s} \\sum_{i=1}^m \\sum_{j:r_{ij} = 1}^n (\\mathbf{w}^T_i\\mathbf{x}_j + b_i + d_j - y_{ij})^2 + \\frac{\\lambda}{2} (||\\mathbf{X}||_F^2 + ||\\mathbf{W}||_F^2) ~~~~~ (2)$$"
   ]
  },
  {
   "cell_type": "markdown",
   "metadata": {},
   "source": [
    "Trong đó:\n",
    "- $j: r_{ij}$ được hiểu là các giá trị của j sao cho $r_{ij} = 1$ hay người dùng thứ j đã đánh giá sản phẩm thứ j\n",
    "- $\\lambda$ là hyperparameter cho $l_2$ regularization (dùng để tránh overfitting)"
   ]
  },
  {
   "cell_type": "markdown",
   "metadata": {},
   "source": [
    "Tối ưu hàm mất mát trên bằng cách cập nhật X và W thay phiên nhau. Khi cập nhật X thì giữ nguyên W và ngược lại. Đạo hàm tương tự Linear Regression nên không trình bày lại."
   ]
  },
  {
   "cell_type": "markdown",
   "metadata": {},
   "source": [
    "#### 3.2 Proximal Gradient Descent"
   ]
  },
  {
   "cell_type": "markdown",
   "metadata": {},
   "source": [
    "**Proximal Gradient Descent** là một thuật toán tối ưu hóa được sử dụng để giải quyết bài toán tối ưu hóa có điều kiện. Nó kết hợp giữa phương pháp Gradient Descent và phương pháp Proximal Operator để xử lý các điều kiện ràng buộc."
   ]
  },
  {
   "cell_type": "markdown",
   "metadata": {},
   "source": [
    "Proximal Operator của một hàm g được định nghĩa như sau:\n",
    "$$prox_{\\alpha g} = argmin_z(g(z) + \\frac{1}{2\\alpha}||z - x||_2^2)$$"
   ]
  },
  {
   "cell_type": "markdown",
   "metadata": {},
   "source": [
    "Cho một hàm mục tiêu $f(x)$ được phân rã thành hai thành phần g(x) và h(x), tức là $f(x) = g(x) + h(x)$. Công thức cập nhật của Proximal Gradient Descent như sau:\n",
    "$$ x^{(k+1)}=prox_{\\alpha h}(x^{(k)} - \\alpha \\nabla g(x^{(k)})) $$\n",
    "Việc dùng Proximal Operator để đảm bảo $x^{(k+1)}$ thỏa mãn ràng buộc của h(x)\n",
    "\n",
    "Bài toán Matrix Factorization với tập dữ liệu Movielens chỉ có ràng buộc duy nhất là Non-negativity Constraints"
   ]
  },
  {
   "cell_type": "markdown",
   "metadata": {},
   "source": [
    "### 4 Xây dựng mô hình"
   ]
  },
  {
   "cell_type": "code",
   "execution_count": 174,
   "metadata": {},
   "outputs": [],
   "source": [
    "import pandas as pd\n",
    "import numpy as np\n",
    "from sklearn.metrics.pairwise import cosine_similarity\n",
    "from scipy import sparse\n",
    "\n",
    "class MatrixFactorization():\n",
    "    def __init__(self, num_users, num_items, K, lam=0.02, Xinit=None, Winit=None,\n",
    "                 learning_rate=0.005, max_epoch=20, print_every=2):\n",
    "        self.n_users = num_users\n",
    "        self.n_items = num_items\n",
    "        self.X = 0.1 * np.random.randn(num_items, K) if Xinit is None else Xinit\n",
    "        self.W = 0.1 * np.random.randn(num_users, K) if Winit is None else Winit\n",
    "        self.b = np.zeros(num_items)  # item biases\n",
    "        self.d = np.zeros(num_users)  # user biases\n",
    "        self.K = K  # Number of latent factors\n",
    "        self.lam = lam  # regularization parameter\n",
    "        self.mu = 0 # mean of rating\n",
    "        self.learning_rate = learning_rate\n",
    "        self.max_epoch = max_epoch  # maximum number of iterations\n",
    "        self.print_every = print_every  # print loss + RMSE on training data after each ? iters\n",
    "\n",
    "    def fit(self, data):\n",
    "        users = data[:, 0]\n",
    "        items = data[:, 1]\n",
    "        ratings = data[:, 2]\n",
    "        n_ratings = data.shape[0]\n",
    "        self.mu = np.mean(ratings)\n",
    "        \n",
    "        for it in range(self.max_epoch):\n",
    "            # mix data\n",
    "            idx = np.random.permutation(n_ratings)\n",
    "            for n in idx:\n",
    "                u, i, rating = int(users[n]), int(items[n]), ratings[n]\n",
    "                pred_rating = self.X[i].dot(self.W[u]) + self.b[i] + self.d[u] + self.mu\n",
    "                error = pred_rating - rating\n",
    "\n",
    "                # Update biases\n",
    "                self.b[i] -= self.learning_rate * (error + self.lam * self.b[i])\n",
    "                self.d[u] -= self.learning_rate * (error + self.lam * self.d[u])\n",
    "\n",
    "                # Update factors using Proximal Gradient Descent\n",
    "                self.X[i, :] = self.proximal_update(self.X[i, :], self.W[u, :], error, self.learning_rate, self.lam)\n",
    "                self.W[u, :] = self.proximal_update(self.W[u, :], self.X[i, :], error, self.learning_rate, self.lam)\n",
    "\n",
    "            if (it + 1) % self.print_every == 0 or (it + 1) == 1:\n",
    "                rmse_train = self.evaluate_RMSE(data)\n",
    "                print('iter = %d, loss = %.4f, RMSE train = %.4f' % (it + 1, self._loss(data), rmse_train))\n",
    "\n",
    "    def proximal_operator(self, x, lam, learning_rate):\n",
    "        return np.maximum(x, 0)\n",
    "\n",
    "    def proximal_update(self, x, z, error, learning_rate, lam):\n",
    "        \"\"\"\n",
    "        Proximal update for the factors.\n",
    "        \"\"\"\n",
    "        gradient = error * z + lam * x\n",
    "        proximal_term = learning_rate * gradient\n",
    "        x = self.proximal_operator(x - proximal_term, lam, learning_rate)\n",
    "        return x\n",
    "    \n",
    "\n",
    "    def pred(self, u, i):\n",
    "        \"\"\"\n",
    "        predict the rating of user u for item i\n",
    "        \"\"\"\n",
    "        u, i = int(u), int(i)\n",
    "        pred = self.X[i, :].dot(self.W[u, :]) + self.b[i] + self.d[u] + self.mu\n",
    "        return max(0, min(5, pred))  # pred should be between 0 and 5 in MoviesLen\n",
    "\n",
    "    def evaluate_RMSE(self, rate_test):\n",
    "        n_tests = rate_test.shape[0]  # number of test\n",
    "        SE = 0  # squared error\n",
    "        for n in range(n_tests):\n",
    "            pred = self.pred(rate_test[n, 0], rate_test[n, 1])\n",
    "            SE += (pred - rate_test[n, 2]) ** 2\n",
    "\n",
    "        RMSE = np.sqrt(SE / n_tests)\n",
    "        return RMSE\n",
    "\n",
    "    def _loss(self, data):\n",
    "        L = 0\n",
    "        for n in range(data.shape[0]):\n",
    "            u, i, rating = int(data[n, 0]), int(data[n, 1]), data[n, 2]\n",
    "            pred_rating = self.X[i, :].dot(self.W[u, :]) + self.b[i] + self.d[u] + self.mu\n",
    "            L += 0.5 * (pred_rating - rating) ** 2 + 0.5 * self.lam * (\n",
    "                    self.b[i] ** 2 + self.d[u] ** 2 + np.sum(self.X[i, :] ** 2) + np.sum(self.W[u, :] ** 2))\n",
    "\n",
    "        return L / data.shape[0]\n"
   ]
  },
  {
   "cell_type": "markdown",
   "metadata": {},
   "source": [
    "### 5. Triển khai mô hình"
   ]
  },
  {
   "cell_type": "markdown",
   "metadata": {},
   "source": [
    "#### 5.1 Phân chia tập train và test"
   ]
  },
  {
   "cell_type": "code",
   "execution_count": 175,
   "metadata": {},
   "outputs": [
    {
     "name": "stdout",
     "output_type": "stream",
     "text": [
      "(100836, 3)\n"
     ]
    }
   ],
   "source": [
    "ratings_data = ratings.iloc[:, :-1].values\n",
    "print(ratings_data.shape)"
   ]
  },
  {
   "cell_type": "code",
   "execution_count": 176,
   "metadata": {},
   "outputs": [
    {
     "name": "stdout",
     "output_type": "stream",
     "text": [
      "(80000, 3)\n",
      "(20836, 3)\n"
     ]
    }
   ],
   "source": [
    "ratings_train = ratings_data[:80000]\n",
    "ratings_test = ratings_data[80000:]\n",
    "print(ratings_train.shape)\n",
    "print(ratings_test.shape)"
   ]
  },
  {
   "cell_type": "markdown",
   "metadata": {},
   "source": [
    "#### 5.2 Huấn luyện mô hình"
   ]
  },
  {
   "cell_type": "code",
   "execution_count": 177,
   "metadata": {},
   "outputs": [
    {
     "name": "stdout",
     "output_type": "stream",
     "text": [
      "iter = 1, loss = 0.4075, RMSE train = 0.8595\n",
      "iter = 2, loss = 0.3849, RMSE train = 0.8363\n",
      "iter = 3, loss = 0.3730, RMSE train = 0.8229\n",
      "iter = 4, loss = 0.3643, RMSE train = 0.8127\n",
      "iter = 5, loss = 0.3583, RMSE train = 0.8039\n",
      "iter = 6, loss = 0.3539, RMSE train = 0.7980\n",
      "iter = 7, loss = 0.3522, RMSE train = 0.7936\n",
      "iter = 8, loss = 0.3494, RMSE train = 0.7896\n",
      "iter = 9, loss = 0.3453, RMSE train = 0.7828\n",
      "iter = 10, loss = 0.3425, RMSE train = 0.7767\n"
     ]
    }
   ],
   "source": [
    "num_users = int(np.max(ratings_data[:, 0])) + 1\n",
    "num_items = int(np.max(ratings_data[:, 1])) + 1\n",
    "recommendation_sys = MatrixFactorization(num_users, num_items, K = 100, lam = .1, print_every = 1, \n",
    "                        learning_rate = 0.05, max_epoch = 10)\n",
    "recommendation_sys.fit(ratings_train)"
   ]
  },
  {
   "cell_type": "markdown",
   "metadata": {},
   "source": [
    "#### 5.3 Đánh giá mô hình"
   ]
  },
  {
   "cell_type": "code",
   "execution_count": 173,
   "metadata": {},
   "outputs": [
    {
     "name": "stdout",
     "output_type": "stream",
     "text": [
      "\n",
      "Matrix Factorization CF, RMSE = 0.9891968338856711\n"
     ]
    }
   ],
   "source": [
    "RMSE = recommendation_sys.evaluate_RMSE(ratings_test)\n",
    "print(f'\\nMatrix Factorization CF, RMSE = {RMSE}')"
   ]
  },
  {
   "cell_type": "markdown",
   "metadata": {},
   "source": [
    "### 6. Kết luận"
   ]
  },
  {
   "cell_type": "markdown",
   "metadata": {},
   "source": [
    "So sánh với các kết quả với các recommendation systems khác thì chỉ với 10 epochs thì kết quả trên là tương đối ổn. Tuy nhiên, vì hàm mất mát tương đối đơn giản (hàm tuyến tính) và lượng dữ liệu không nhiều nên rõ ràng mô hình sẽ không quá tốt được."
   ]
  }
 ],
 "metadata": {
  "kernelspec": {
   "display_name": "Python 3",
   "language": "python",
   "name": "python3"
  },
  "language_info": {
   "codemirror_mode": {
    "name": "ipython",
    "version": 3
   },
   "file_extension": ".py",
   "mimetype": "text/x-python",
   "name": "python",
   "nbconvert_exporter": "python",
   "pygments_lexer": "ipython3",
   "version": "3.9.7"
  }
 },
 "nbformat": 4,
 "nbformat_minor": 2
}
