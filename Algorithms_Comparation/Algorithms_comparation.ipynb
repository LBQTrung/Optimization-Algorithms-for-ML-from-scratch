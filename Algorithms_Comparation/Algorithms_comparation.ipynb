{
  "cells": [
    {
      "cell_type": "markdown",
      "metadata": {
        "id": "qWd12_Diu-Pn"
      },
      "source": [
        "So sánh giữa Logistic Regression và Support Vector Machine"
      ]
    },
    {
      "cell_type": "markdown",
      "metadata": {
        "id": "iVPyR1RLvD6K"
      },
      "source": [
        "### 1. Import thư viên cần thiết"
      ]
    },
    {
      "cell_type": "code",
      "execution_count": 1,
      "metadata": {
        "id": "Rl8WOVdJv3j9"
      },
      "outputs": [],
      "source": [
        "import numpy as np\n",
        "import pandas as pd\n",
        "import matplotlib.pyplot as plt\n",
        "import math"
      ]
    },
    {
      "cell_type": "markdown",
      "metadata": {
        "id": "BUy7umomv_Pm"
      },
      "source": [
        "### 2. Đọc tập dữ liệu"
      ]
    },
    {
      "cell_type": "code",
      "execution_count": 2,
      "metadata": {
        "id": "qDkjqPHBwBs0"
      },
      "outputs": [],
      "source": [
        "dataset = pd.read_csv('emails.csv')"
      ]
    },
    {
      "cell_type": "code",
      "execution_count": 3,
      "metadata": {
        "colab": {
          "base_uri": "https://localhost:8080/",
          "height": 235
        },
        "id": "FQv6O-ULx1n2",
        "outputId": "f06c1cea-48aa-422f-c64e-33cf0c43958e"
      },
      "outputs": [
        {
          "data": {
            "text/html": [
              "<div>\n",
              "<style scoped>\n",
              "    .dataframe tbody tr th:only-of-type {\n",
              "        vertical-align: middle;\n",
              "    }\n",
              "\n",
              "    .dataframe tbody tr th {\n",
              "        vertical-align: top;\n",
              "    }\n",
              "\n",
              "    .dataframe thead th {\n",
              "        text-align: right;\n",
              "    }\n",
              "</style>\n",
              "<table border=\"1\" class=\"dataframe\">\n",
              "  <thead>\n",
              "    <tr style=\"text-align: right;\">\n",
              "      <th></th>\n",
              "      <th>Email No.</th>\n",
              "      <th>the</th>\n",
              "      <th>to</th>\n",
              "      <th>ect</th>\n",
              "      <th>and</th>\n",
              "      <th>for</th>\n",
              "      <th>of</th>\n",
              "      <th>a</th>\n",
              "      <th>you</th>\n",
              "      <th>hou</th>\n",
              "      <th>...</th>\n",
              "      <th>connevey</th>\n",
              "      <th>jay</th>\n",
              "      <th>valued</th>\n",
              "      <th>lay</th>\n",
              "      <th>infrastructure</th>\n",
              "      <th>military</th>\n",
              "      <th>allowing</th>\n",
              "      <th>ff</th>\n",
              "      <th>dry</th>\n",
              "      <th>Prediction</th>\n",
              "    </tr>\n",
              "  </thead>\n",
              "  <tbody>\n",
              "    <tr>\n",
              "      <th>0</th>\n",
              "      <td>Email 1</td>\n",
              "      <td>0</td>\n",
              "      <td>0</td>\n",
              "      <td>1</td>\n",
              "      <td>0</td>\n",
              "      <td>0</td>\n",
              "      <td>0</td>\n",
              "      <td>2</td>\n",
              "      <td>0</td>\n",
              "      <td>0</td>\n",
              "      <td>...</td>\n",
              "      <td>0</td>\n",
              "      <td>0</td>\n",
              "      <td>0</td>\n",
              "      <td>0</td>\n",
              "      <td>0</td>\n",
              "      <td>0</td>\n",
              "      <td>0</td>\n",
              "      <td>0</td>\n",
              "      <td>0</td>\n",
              "      <td>0</td>\n",
              "    </tr>\n",
              "    <tr>\n",
              "      <th>1</th>\n",
              "      <td>Email 2</td>\n",
              "      <td>8</td>\n",
              "      <td>13</td>\n",
              "      <td>24</td>\n",
              "      <td>6</td>\n",
              "      <td>6</td>\n",
              "      <td>2</td>\n",
              "      <td>102</td>\n",
              "      <td>1</td>\n",
              "      <td>27</td>\n",
              "      <td>...</td>\n",
              "      <td>0</td>\n",
              "      <td>0</td>\n",
              "      <td>0</td>\n",
              "      <td>0</td>\n",
              "      <td>0</td>\n",
              "      <td>0</td>\n",
              "      <td>0</td>\n",
              "      <td>1</td>\n",
              "      <td>0</td>\n",
              "      <td>0</td>\n",
              "    </tr>\n",
              "    <tr>\n",
              "      <th>2</th>\n",
              "      <td>Email 3</td>\n",
              "      <td>0</td>\n",
              "      <td>0</td>\n",
              "      <td>1</td>\n",
              "      <td>0</td>\n",
              "      <td>0</td>\n",
              "      <td>0</td>\n",
              "      <td>8</td>\n",
              "      <td>0</td>\n",
              "      <td>0</td>\n",
              "      <td>...</td>\n",
              "      <td>0</td>\n",
              "      <td>0</td>\n",
              "      <td>0</td>\n",
              "      <td>0</td>\n",
              "      <td>0</td>\n",
              "      <td>0</td>\n",
              "      <td>0</td>\n",
              "      <td>0</td>\n",
              "      <td>0</td>\n",
              "      <td>0</td>\n",
              "    </tr>\n",
              "    <tr>\n",
              "      <th>3</th>\n",
              "      <td>Email 4</td>\n",
              "      <td>0</td>\n",
              "      <td>5</td>\n",
              "      <td>22</td>\n",
              "      <td>0</td>\n",
              "      <td>5</td>\n",
              "      <td>1</td>\n",
              "      <td>51</td>\n",
              "      <td>2</td>\n",
              "      <td>10</td>\n",
              "      <td>...</td>\n",
              "      <td>0</td>\n",
              "      <td>0</td>\n",
              "      <td>0</td>\n",
              "      <td>0</td>\n",
              "      <td>0</td>\n",
              "      <td>0</td>\n",
              "      <td>0</td>\n",
              "      <td>0</td>\n",
              "      <td>0</td>\n",
              "      <td>0</td>\n",
              "    </tr>\n",
              "    <tr>\n",
              "      <th>4</th>\n",
              "      <td>Email 5</td>\n",
              "      <td>7</td>\n",
              "      <td>6</td>\n",
              "      <td>17</td>\n",
              "      <td>1</td>\n",
              "      <td>5</td>\n",
              "      <td>2</td>\n",
              "      <td>57</td>\n",
              "      <td>0</td>\n",
              "      <td>9</td>\n",
              "      <td>...</td>\n",
              "      <td>0</td>\n",
              "      <td>0</td>\n",
              "      <td>0</td>\n",
              "      <td>0</td>\n",
              "      <td>0</td>\n",
              "      <td>0</td>\n",
              "      <td>0</td>\n",
              "      <td>1</td>\n",
              "      <td>0</td>\n",
              "      <td>0</td>\n",
              "    </tr>\n",
              "  </tbody>\n",
              "</table>\n",
              "<p>5 rows × 3002 columns</p>\n",
              "</div>"
            ],
            "text/plain": [
              "  Email No.  the  to  ect  and  for  of    a  you  hou  ...  connevey  jay  \\\n",
              "0   Email 1    0   0    1    0    0   0    2    0    0  ...         0    0   \n",
              "1   Email 2    8  13   24    6    6   2  102    1   27  ...         0    0   \n",
              "2   Email 3    0   0    1    0    0   0    8    0    0  ...         0    0   \n",
              "3   Email 4    0   5   22    0    5   1   51    2   10  ...         0    0   \n",
              "4   Email 5    7   6   17    1    5   2   57    0    9  ...         0    0   \n",
              "\n",
              "   valued  lay  infrastructure  military  allowing  ff  dry  Prediction  \n",
              "0       0    0               0         0         0   0    0           0  \n",
              "1       0    0               0         0         0   1    0           0  \n",
              "2       0    0               0         0         0   0    0           0  \n",
              "3       0    0               0         0         0   0    0           0  \n",
              "4       0    0               0         0         0   1    0           0  \n",
              "\n",
              "[5 rows x 3002 columns]"
            ]
          },
          "execution_count": 3,
          "metadata": {},
          "output_type": "execute_result"
        }
      ],
      "source": [
        "# Kiểm tra tập dữ liệu\n",
        "dataset.head()"
      ]
    },
    {
      "cell_type": "markdown",
      "metadata": {
        "id": "wIn1b0dFx6Tl"
      },
      "source": [
        "Sau khi quan sát tập dữ liệu thì cột đầu tiên sẽ là chỉ số cho thứ tự của email, cột cuối cùng sẽ là nhãn - email là spam hay bình thường, các cột còn lại sẽ là tần số xuất hiện của các từ tương ứng với header của cột, cũng chính là các đặc trưng."
      ]
    },
    {
      "cell_type": "code",
      "execution_count": 4,
      "metadata": {
        "id": "icIoPXpyyYnZ"
      },
      "outputs": [],
      "source": [
        "# Chia tập dữ liệu thành đặc trưng và nhãn lớp\n",
        "X = dataset.iloc[: , 1:-1].values\n",
        "y = dataset.iloc[:, -1].values"
      ]
    },
    {
      "cell_type": "code",
      "execution_count": 5,
      "metadata": {
        "colab": {
          "base_uri": "https://localhost:8080/"
        },
        "id": "kutj6RXBzoCe",
        "outputId": "58204263-e8f6-4c15-bdc1-13d7dd32de83"
      },
      "outputs": [
        {
          "data": {
            "text/plain": [
              "(5172, 3000)"
            ]
          },
          "execution_count": 5,
          "metadata": {},
          "output_type": "execute_result"
        }
      ],
      "source": [
        "X.shape"
      ]
    },
    {
      "cell_type": "markdown",
      "metadata": {
        "id": "DZnOmpwOy2hF"
      },
      "source": [
        "### 3. Tiền xử lý dữ liệu"
      ]
    },
    {
      "cell_type": "markdown",
      "metadata": {
        "id": "8E1eOReMy5PO"
      },
      "source": [
        "#### 3.1 Phân chia tập dữ liệu thành train set và test set"
      ]
    },
    {
      "cell_type": "markdown",
      "metadata": {
        "id": "g0_Pg367zilE"
      },
      "source": [
        "Nhận thấy tập dữ liệu có 5172 samples. Do đó, ta sẽ chia tập train khoảng 90% và tập test tầm 10% là hợp lý."
      ]
    },
    {
      "cell_type": "code",
      "execution_count": 6,
      "metadata": {
        "id": "x5zdI34Ny9lv"
      },
      "outputs": [],
      "source": [
        "from sklearn.model_selection import train_test_split\n",
        "X_train, X_test, y_train, y_test = train_test_split(X, y, test_size=0.1,\n",
        "                                                    random_state=42)"
      ]
    },
    {
      "cell_type": "code",
      "execution_count": 7,
      "metadata": {
        "colab": {
          "base_uri": "https://localhost:8080/"
        },
        "id": "kvRXLaZkzRow",
        "outputId": "16f0a44d-879a-4a98-ecf0-6314713d8a50"
      },
      "outputs": [
        {
          "name": "stdout",
          "output_type": "stream",
          "text": [
            "Shape của X train:  (4654, 3000)\n",
            "Shape của y train:  (4654,)\n",
            "Shape của X test:  (518, 3000)\n",
            "Shape của y test:  (518,)\n"
          ]
        }
      ],
      "source": [
        "# Kiểm tra shape:\n",
        "print('Shape của X train: ', X_train.shape)\n",
        "print('Shape của y train: ', y_train.shape)\n",
        "print('Shape của X test: ', X_test.shape)\n",
        "print('Shape của y test: ', y_test.shape)"
      ]
    },
    {
      "cell_type": "markdown",
      "metadata": {
        "id": "zzyliGO_z3Dn"
      },
      "source": [
        "#### 3.2 Chuẩn hóa dữ liệu"
      ]
    },
    {
      "cell_type": "code",
      "execution_count": 8,
      "metadata": {
        "id": "wCJ_Aj7T0CxX"
      },
      "outputs": [],
      "source": [
        "from sklearn.preprocessing import StandardScaler\n",
        "scaler = StandardScaler()\n",
        "\n",
        "X_train = scaler.fit_transform(X_train)\n",
        "X_test = scaler.transform(X_test)"
      ]
    },
    {
      "cell_type": "code",
      "execution_count": 9,
      "metadata": {
        "colab": {
          "base_uri": "https://localhost:8080/"
        },
        "id": "-toB3VAs0O0L",
        "outputId": "d57f2cb1-0841-4690-a0af-fe1c9da6a3e9"
      },
      "outputs": [
        {
          "name": "stdout",
          "output_type": "stream",
          "text": [
            "5 samples đầu của X train sau khi chuẩn hóa:\n",
            " [[-2.23915933e-01 -2.28045963e-01  3.36466635e-01 ... -5.93454801e-02\n",
            "   3.30695556e-02 -6.78954940e-02]\n",
            " [-4.81586275e-01 -5.43197674e-01 -2.88040010e-01 ... -5.93454801e-02\n",
            "  -3.16716153e-01 -6.78954940e-02]\n",
            " [-4.81586275e-01  1.92156318e-01 -2.88040010e-01 ... -5.93454801e-02\n",
            "  -3.16716153e-01 -6.78954940e-02]\n",
            " [ 1.19644523e-01 -1.79448224e-02  1.97687380e-01 ... -5.93454801e-02\n",
            "  -3.16716153e-01 -6.78954940e-02]\n",
            " [ 1.19644523e-01  1.34771259e+00 -1.04815015e-02 ... -5.93454801e-02\n",
            "   2.90652834e+01 -6.78954940e-02]]\n",
            "5 samples đầu của X test sau khi chuẩn hóa:\n",
            " [[-0.48158627 -0.54319767 -0.28804001 ... -0.05934548 -0.31671615\n",
            "  -0.06789549]\n",
            " [ 0.54909509  1.45276316  4.22228576 ... -0.05934548 -0.31671615\n",
            "  -0.06789549]\n",
            " [-0.48158627  0.82245974 -0.14926076 ... -0.05934548  1.43221239\n",
            "  -0.06789549]\n",
            " [-0.56747639 -0.64824824 -0.28804001 ... -0.05934548 -0.31671615\n",
            "  -0.06789549]\n",
            " [ 0.37731486 -0.01794482 -0.21865038 ... -0.05934548  1.08242668\n",
            "  -0.06789549]]\n"
          ]
        }
      ],
      "source": [
        "# Kiểm tra một vài samples\n",
        "print('5 samples đầu của X train sau khi chuẩn hóa:\\n', X_train[:5])\n",
        "print('5 samples đầu của X test sau khi chuẩn hóa:\\n', X_test[:5])"
      ]
    },
    {
      "cell_type": "markdown",
      "metadata": {
        "id": "7RGvu3N_0mxs"
      },
      "source": [
        "### 4. Triển khai thuật toán"
      ]
    },
    {
      "cell_type": "markdown",
      "metadata": {},
      "source": [
        "Trong phần này, em sẽ triển khai 3 thuật toán tối ưu trên mô hình Logistic Regression và SVM để tiện cho việc so sánh:\n",
        "- Mini-batch Gradient Descent (Dạng tổng quát hơn của SGD và Gradient Descent): Có thể kết hợp với Gradient Descent with momentum hoặc adam, ....\n",
        "- Gradient Descent with momentum\n",
        "- Adam"
      ]
    },
    {
      "cell_type": "markdown",
      "metadata": {},
      "source": [
        "Trong các bài tập trước, em thường triển khai dưới dạng một vector trọng số w và thêm một cột 1 vào X. Tuy nhiên, ở các phần sau em sẽ triển khai với hai parameter là w, b. (Để làm quen với cách thức triển khai của Neural Network luôn)"
      ]
    },
    {
      "cell_type": "markdown",
      "metadata": {},
      "source": [
        "#### 4.1 Triển khai Gradient Descent (Nhắc lại)"
      ]
    },
    {
      "cell_type": "markdown",
      "metadata": {},
      "source": [
        "Cách thức cập nhật parameter:\n",
        "$$ w = w - \\alpha \\text{ } dw$$\n",
        "$$ b = b - \\alpha \\text{ } db$$\n",
        "\n",
        "Với:\n",
        "- $\\alpha$ là learning rate (tốc độ học)\n",
        "- $dw$ là đạo hàm của hàm mất mát theo w\n",
        "- $db$ là đạo hàm của hàm mất mát theo b"
      ]
    },
    {
      "cell_type": "markdown",
      "metadata": {},
      "source": [
        "#### 4.2 Triển khai Mini-batch Gradient Descent"
      ]
    },
    {
      "cell_type": "markdown",
      "metadata": {},
      "source": [
        "Khác với Gradient Descent (Đầy đủ hơn là Batch Gradient Descent), ta không tính toán trực tiếp trên toàn bộ tập dữ liệu mà chia làm các phần nhỏ (minibatch), sau đó dùng gradient descent trên các phần nhỏ ấy.\n",
        "\n",
        "Một lần duyệt qua hết tất cả mini-batch là một epoch.\n",
        "\n",
        "Cách thức triển khai cho 1 epoch:\n",
        "- Bước 1: Xáo trộn tập dữ liệu (Đảm bảo mỗi epoch thì các mini-batch sẽ khác nhau, tránh overfitting)\n",
        "- Bước 2: Phân chia dữ liệu thành các mini-batch. Số lượng phần tử của các mini-batch ta tạm gọi là minibatch_size\n",
        "- Bước 3: Dùng Gradient Descent trên các mini-batch\n",
        "\n",
        "Lưu ý: \n",
        "- Số lượng phần tử của các mini-batch nên là lũy thừa của 2 (Có lẽ là nó phù hợp với tính toán CPU, GPU nên sẽ nhanh hơn) như 64, 128, 256, ...\n",
        "- Khi minibatch_size = 1: Batch Gradient Descent\n",
        "- Khi minibatch_size = số lượng phần tử của tập dữ liệu huấn luyện: Stochastic Gradient Descent"
      ]
    },
    {
      "cell_type": "markdown",
      "metadata": {},
      "source": [
        "#### 4.3 Triển khai Gradient Descent with Momentum"
      ]
    },
    {
      "cell_type": "markdown",
      "metadata": {},
      "source": [
        "Việc áp dụng mini-batch thường làm việc tối ưu sẽ \"dao động\" nhiều hơn. Nhờ vào việc áp dụng Exponentially Weighted Averages thì khi ta áp dụng Gradient Descent with Momentum thì sẽ làm giảm các \"dao động\" này và nó trông có vẻ như sẽ nhanh hơn. "
      ]
    },
    {
      "cell_type": "markdown",
      "metadata": {},
      "source": [
        "Cách thức cập nhật trọng số với GD with Momentum:\n",
        "$$ \\begin{cases}\n",
        "v_{dw} = \\beta v_{dw} + (1 - \\beta) dw \\\\\n",
        "w = w - \\alpha v_{dw}\n",
        "\\end{cases}$$\n",
        "\n",
        "$$\\begin{cases}\n",
        "v_{db} = \\beta v_{db} + (1 - \\beta) db\\\\\n",
        "b = b - \\alpha v_{db} \n",
        "\\end{cases}$$\n",
        "\n",
        "Trong đó:\n",
        "- $\\alpha$ là learning rate (tốc độ học)\n",
        "- $\\beta$ là trọng số trong việc tính trung bình Exponentially Weighted Averages. Mặc định là 0.9"
      ]
    },
    {
      "cell_type": "markdown",
      "metadata": {},
      "source": [
        "#### 4.4 Triển khai Adam"
      ]
    },
    {
      "cell_type": "markdown",
      "metadata": {},
      "source": [
        "Adam là một trong những thuật toán mạnh mẽ trong việc tối ưu khi huấn luyện các mạng nơ-ron. Nó kết hợp ý tưởng của RMSProp (RMSProp sẽ thay đổi learning rate thích ứng với việc huấn luyện mô hình) và Momentum."
      ]
    },
    {
      "cell_type": "markdown",
      "metadata": {},
      "source": [
        "Cách thức cập nhật trọng số trong Adam\n",
        "\n",
        "$$\\begin{cases}\n",
        "v_{dw} = \\beta_1 v_{dw} + (1 - \\beta_1) \\frac{\\partial \\mathcal{J} }{ \\partial w } \\\\\n",
        "v_{db} = \\beta_1 v_{db} + (1 - \\beta_1) \\frac{\\partial \\mathcal{J} }{ \\partial b } \\\\\n",
        "s_{dw} = \\beta_2 s_{dw} + (1 - \\beta_2) (\\frac{\\partial \\mathcal{J} }{\\partial w })^2 \\\\\n",
        "s_{db} = \\beta_2 s_{db} + (1 - \\beta_2) (\\frac{\\partial \\mathcal{J} }{\\partial b })^2 \\\\\n",
        "w = w - \\alpha \\frac{v_{dw}}{\\sqrt{s_{dw}} + \\varepsilon}\\\\\n",
        "w = w - \\alpha \\frac{v_{db}}{\\sqrt{s_{db}} + \\varepsilon}\n",
        "\\end{cases}$$\n",
        "\n",
        "Trong đó:\n",
        "- $\\alpha$ là learning rate (tốc độ học)\n",
        "- $\\beta_1$ và $\\beta2$ là 2 hyperparameters dùng để kiểm soát hai Exponentially Weighted Averages\n",
        "- $\\epsilon$: Thêm vào để tránh trường hợp chia cho 0"
      ]
    },
    {
      "cell_type": "markdown",
      "metadata": {},
      "source": [
        "#### 4.5 Tiến hành triển khai"
      ]
    },
    {
      "cell_type": "markdown",
      "metadata": {},
      "source": [
        "Trong phần này, em sẽ triển khai với lập trình hướng đối tượng để có cấu trúc rõ ràng, cũng như có thể tái sử dụng trong tương lai."
      ]
    },
    {
      "cell_type": "code",
      "execution_count": 12,
      "metadata": {},
      "outputs": [],
      "source": [
        "import numpy as np\n",
        "\n",
        "class SVM:\n",
        "    def __init__(self, learning_rate=0.01, num_epochs=1000, C=1.0, mini_batch_size=None,\n",
        "                 epsilon=1e-8, optimizer='GD', beta=0.9, beta1=0.9, \n",
        "                 beta2=0.999, print_costs=False):\n",
        "        self.learning_rate = learning_rate\n",
        "        self.num_epochs = num_epochs\n",
        "        self.C = C\n",
        "        self.print_costs = print_costs\n",
        "        self.w = None\n",
        "        self.b = None\n",
        "\n",
        "        self.mini_batch_size = mini_batch_size\n",
        "        self.epsilon = epsilon\n",
        "        self.optimizer = optimizer\n",
        "\n",
        "        self.costs = [] # Dùng cho batch\n",
        "        self.epochs_for_print = [] # Dùng cho batch\n",
        "\n",
        "        self.all_costs = [] # Dùng cho mini-batch để trực quan hơn\n",
        "\n",
        "        self.beta = beta # Dùng cho Momentum\n",
        "        self.beta1 = beta1 # Dùng cho Adam\n",
        "        self.beta2 = beta2 # Dùng cho Adam\n",
        "        self.mini_batch_size = mini_batch_size\n",
        "        self.w = None\n",
        "        self.b = None\n",
        "        self.v_dw = None # Dùng cho Momentum và Adam\n",
        "        self.v_db = None # Dùng cho Momentum và Adam\n",
        "        self.s_dw = None # Dùng cho Adam \n",
        "        self.s_db = None # Dùng cho Adam\n",
        "        \n",
        "\n",
        "    def initialize_params(self, shape):\n",
        "        self.w = np.zeros((shape, 1))\n",
        "        self.b = 0\n",
        "        if (self.optimizer == 'momentum'):\n",
        "            self.v_dw = np.zeros(self.w.shape)\n",
        "            self.v_db = 0\n",
        "        elif (self.optimizer == 'adam'):\n",
        "            self.v_dw = np.zeros(self.w.shape)\n",
        "            self.v_db = 0\n",
        "            self.s_dw = np.zeros(self.w.shape)\n",
        "            self.s_db = 0\n",
        "\n",
        "    def margin(self, X, y):\n",
        "        m = X.shape[0]\n",
        "        margin = 1 - y * (np.dot(X, self.w) + self.b)\n",
        "        margin = np.maximum(0, margin)\n",
        "        return margin\n",
        "\n",
        "    def cost_function(self, X, y):\n",
        "        m = X.shape[0]\n",
        "        margin = self.margin(X, y)\n",
        "        regularization = 1 / 2 * np.dot(self.w.T, self.w)\n",
        "        J = 1 / m * np.sum(margin) + self.C * regularization\n",
        "        return J[0][0]\n",
        "\n",
        "    def gradient(self, X, y):\n",
        "        m = X.shape[0]\n",
        "        margin = self.margin(X, y)\n",
        "        loss = np.where(margin > 0, 1, 0)  # Loss for each data point\n",
        "        loss = loss.reshape(-1, 1)\n",
        "\n",
        "        dw = -(1 / m) * np.dot(X.T, loss * y) + self.C * self.w\n",
        "        db = -(1 / m) * np.sum(loss * y)\n",
        "\n",
        "        return dw, db\n",
        "\n",
        "    '''Min-batch Gradient Desent'''\n",
        "    def random_mini_batches(self, X, y, mini_batch_size = 64, seed = 0):\n",
        "        \"\"\"\n",
        "        Input:\n",
        "            - X: Dữ liệu đầu vào\n",
        "            - y: Nhãn lớp \n",
        "            - mini_batch_size: số lượng example trong mỗi mini-batch\n",
        "            - seed: giá trị để đảm bảo mỗi lần random sẽ khác biệt hoàn toàn\n",
        "\n",
        "        Output:\n",
        "            mini_batches: list của những phần tử (mini_batch_X, mini_batch_Y)\n",
        "        \"\"\"\n",
        "        np.random.seed(seed)            \n",
        "        m = X.shape[1]                  \n",
        "        mini_batches = []\n",
        "\n",
        "        # Bước 1: Xáo trộn\n",
        "        permutation = list(np.random.permutation(m))\n",
        "        shuffled_X = X[permutation, :]\n",
        "        shuffled_y = y[permutation, :]\n",
        "\n",
        "        # Bước 2: Phân chia X, y thành các mini-batch\n",
        "        num_complete_minibatches = math.floor(m / mini_batch_size) # number of mini batches of size mini_batch_size in your partitionning\n",
        "        for k in range(0, num_complete_minibatches):\n",
        "            mini_batch_X = shuffled_X[k*mini_batch_size: (k+1) * mini_batch_size, :]\n",
        "            mini_batch_Y = shuffled_y[k*mini_batch_size: (k+1) * mini_batch_size, :]\n",
        "            mini_batch = (mini_batch_X, mini_batch_Y)\n",
        "            mini_batches.append(mini_batch)\n",
        "        \n",
        "        # Xử lý mini-batch cuối cùng\n",
        "        if m % mini_batch_size != 0:\n",
        "            mini_batch_X = shuffled_X[num_complete_minibatches*mini_batch_size:, :]\n",
        "            mini_batch_Y = shuffled_y[num_complete_minibatches*mini_batch_size:, :]\n",
        "            mini_batch = (mini_batch_X, mini_batch_Y)\n",
        "            mini_batches.append(mini_batch)\n",
        "        \n",
        "        return mini_batches\n",
        "\n",
        "    # Cập nhật trọng số với Gradient Descent truyền thống\n",
        "    def update_parameters_with_GD(self, X, y):\n",
        "        dw, db = self.gradient(X, y)\n",
        "        self.w = self.w - self.learning_rate * dw\n",
        "        self.b = self.b - self.learning_rate * db\n",
        "    \n",
        "    # Cập nhật trọng số với Gradient Descent with Momentum\n",
        "    def update_parameters_with_momentum(self, X, y):\n",
        "        dw, db = self.gradient(X, y)\n",
        "        self.v_dw = self.beta * self.v_dw + (1-self.beta) * dw\n",
        "        self.v_db = self.beta * self.v_db + (1-self.beta) * db\n",
        "        self.w -= self.learning_rate * self.v_dw\n",
        "        self.b -= self.learning_rate * self.v_db\n",
        "    \n",
        "    # Cập nhật trọng số với adam\n",
        "    def update_parameters_with_adam(self, X, y):\n",
        "        dw, db = self.gradient(X, y)\n",
        "        #Momentum\n",
        "        self.v_dw = self.beta1 * self.v_dw + (1-self.beta1) * dw\n",
        "        self.v_db = self.beta1 * self.v_db + (1-self.beta1) * db\n",
        "\n",
        "        #RMSprop\n",
        "        self.s_dw = self.beta2 * self.s_dw + (1-self.beta2) * dw**2\n",
        "        self.s_db = self.beta2 * self.s_db + (1-self.beta2) * db**2\n",
        "\n",
        "        self.w -= self.learning_rate * self.v_dw / (self.s_dw ** (1/2) + self.epsilon)\n",
        "        self.b -= self.learning_rate * self.v_db / (self.s_db ** (1/2) + self.epsilon)\n",
        "\n",
        "    def mini_batch_gradient_descent(self, X, y):\n",
        "        m = X.shape[0]\n",
        "        seed = 0\n",
        "        for i in range(self.num_epochs):\n",
        "            seed = seed + 1\n",
        "            minibatches = self.random_mini_batches(X, y, self.mini_batch_size, seed)\n",
        "            cost_total = 0\n",
        "\n",
        "            for minibatch in minibatches:\n",
        "                (minibatch_X, minibatch_y) = minibatch\n",
        "                cost = self.cost_function(minibatch_X, minibatch_y)\n",
        "                \n",
        "                cost_total += cost\n",
        "                if (self.optimizer == 'GD'):\n",
        "                    self.update_parameters_with_GD(minibatch_X, minibatch_y)\n",
        "\n",
        "                elif (self.optimizer == 'momentum'):\n",
        "                    self.update_parameters_with_momentum(minibatch_X, minibatch_y)\n",
        "\n",
        "                elif (self.optimizer == 'adam'):\n",
        "                    self.update_parameters_with_adam(minibatch_X, minibatch_y)\n",
        "                    \n",
        "            cost_avg = cost_total / m\n",
        "            self.all_costs.append(cost_avg)\n",
        "            \n",
        "            if self.print_costs and (i+1) % 100 == 0 or (i == 0):\n",
        "                print(f'Cost value after {i+1} epoch(s): {cost_avg}')\n",
        "                self.costs.append(cost_avg)\n",
        "                self.epochs_for_print.append(i)\n",
        "\n",
        "    def fit(self, X, y):\n",
        "        y = y.reshape(-1, 1)\n",
        "        y = np.where(y == 1, 1, -1)\n",
        "        self.initialize_params(X.shape[1])\n",
        "        if (self.mini_batch_size == 1 or self.mini_batch_size == None):\n",
        "            print(\"Batch Gradient Descent...\")\n",
        "            self.mini_batch_gradient_descent(X, y)\n",
        "        else:\n",
        "            if (self.mini_batch_size == X.shape[0]):\n",
        "                print(\"Stochastic Gradient Descent...\")\n",
        "            else:\n",
        "                print(f\"Mini-batch Gradient Descent with {self.mini_batch_size} mini-batches ...\")\n",
        "            self.mini_batch_gradient_descent(X, y)\n",
        "\n",
        "    def predict(self, X):\n",
        "        y_pred = np.dot(X, self.w) + self.b\n",
        "        y_pred = np.sign(y_pred)\n",
        "        y_pred = np.where(y_pred == 1, 1, 0)\n",
        "        return y_pred\n",
        "\n",
        "    def plot_cost_history(self):\n",
        "        if self.print_costs:\n",
        "            import matplotlib.pyplot as plt\n",
        "            if self.mini_batch_size > 1:\n",
        "                plt.plot(range(self.num_epochs), self.all_costs)\n",
        "                plt.xlabel('Iterations')\n",
        "            else:\n",
        "                plt.plot(self.epochs_for_print, self.costs)\n",
        "                plt.xlabel(\"Epochs\")\n",
        "            plt.ylabel(\"Cost\")\n",
        "            plt.title(\"Cost History\")\n",
        "            plt.show()\n"
      ]
    },
    {
      "cell_type": "markdown",
      "metadata": {},
      "source": [
        "### 5. So sánh các thuật toán"
      ]
    },
    {
      "cell_type": "markdown",
      "metadata": {},
      "source": [
        "#### 5.1 Gradient Descent truyền thống (Batch Gradient Descent)"
      ]
    },
    {
      "cell_type": "code",
      "execution_count": 15,
      "metadata": {},
      "outputs": [
        {
          "name": "stdout",
          "output_type": "stream",
          "text": [
            "Batch Gradient Descent...\n",
            "Cost value after 1 epoch(s): 0.2608008155201489\n",
            "Cost value after 100 epoch(s): 0.1429816170884766\n",
            "Cost value after 200 epoch(s): 0.1354633657402057\n",
            "Cost value after 300 epoch(s): 0.14733191174999422\n",
            "Cost value after 400 epoch(s): 0.14197988196157887\n",
            "Cost value after 500 epoch(s): 0.14006831523517332\n",
            "Cost value after 600 epoch(s): 0.14440940244253725\n",
            "Cost value after 700 epoch(s): 0.13767608952332028\n",
            "Cost value after 800 epoch(s): 0.14220199728052674\n",
            "Cost value after 900 epoch(s): 0.14148913098779126\n",
            "Cost value after 1000 epoch(s): 0.1398884122965355\n"
          ]
        },
        {
          "data": {
            "image/png": "[encoded data removed]",
            "text/plain": [
              "<Figure size 432x288 with 1 Axes>"
            ]
          },
          "metadata": {
            "needs_background": "light"
          },
          "output_type": "display_data"
        }
      ],
      "source": [
        "svm_gd = SVM(learning_rate=0.001, num_epochs=1000, C=0.3,\n",
        "          mini_batch_size=1, print_costs=True,\n",
        "          optimizer='GD')\n",
        "svm_gd.fit(X_train, y_train)\n",
        "svm_gd.plot_cost_history()"
      ]
    },
    {
      "cell_type": "code",
      "execution_count": 16,
      "metadata": {},
      "outputs": [
        {
          "name": "stdout",
          "output_type": "stream",
          "text": [
            "Accuracy: 0.9517374517374517\n"
          ]
        }
      ],
      "source": [
        "from sklearn.metrics import accuracy_score\n",
        "y_pred1 = svm_gd.predict(X_test)\n",
        "accuracy = accuracy_score(y_test, y_pred1)\n",
        "print(\"Accuracy:\", accuracy)"
      ]
    },
    {
      "cell_type": "markdown",
      "metadata": {},
      "source": [
        "#### 5.2 Mini-batch Gradient Descent (Cập nhật với GD)"
      ]
    },
    {
      "cell_type": "code",
      "execution_count": 17,
      "metadata": {},
      "outputs": [
        {
          "name": "stdout",
          "output_type": "stream",
          "text": [
            "Mini-batch Gradient Descent with 64 mini-batches ...\n",
            "Cost value after 1 epoch(s): 0.008246005717398398\n",
            "Cost value after 100 epoch(s): 0.0015900724695098972\n",
            "Cost value after 200 epoch(s): 0.0015501368775923865\n",
            "Cost value after 300 epoch(s): 0.0015286669427331328\n",
            "Cost value after 400 epoch(s): 0.0015155177049137388\n",
            "Cost value after 500 epoch(s): 0.0015092787526584887\n",
            "Cost value after 600 epoch(s): 0.001502637726324423\n",
            "Cost value after 700 epoch(s): 0.0014984836397002803\n",
            "Cost value after 800 epoch(s): 0.0014947616458494872\n",
            "Cost value after 900 epoch(s): 0.0014931114545470579\n",
            "Cost value after 1000 epoch(s): 0.0014923343982478111\n"
          ]
        },
        {
          "data": {
            "image/png": "[encoded data removed]",
            "text/plain": [
              "<Figure size 432x288 with 1 Axes>"
            ]
          },
          "metadata": {
            "needs_background": "light"
          },
          "output_type": "display_data"
        }
      ],
      "source": [
        "svm_minibatch_gd = SVM(learning_rate=0.001, num_epochs=1000, C=0.3,\n",
        "          mini_batch_size=64, print_costs=True,\n",
        "          optimizer='GD')\n",
        "svm_minibatch_gd.fit(X_train, y_train)\n",
        "svm_minibatch_gd.plot_cost_history()"
      ]
    },
    {
      "cell_type": "code",
      "execution_count": 18,
      "metadata": {},
      "outputs": [
        {
          "name": "stdout",
          "output_type": "stream",
          "text": [
            "Accuracy: 0.9671814671814671\n"
          ]
        }
      ],
      "source": [
        "from sklearn.metrics import accuracy_score\n",
        "y_pred2 = svm_minibatch_gd.predict(X_test)\n",
        "accuracy = accuracy_score(y_test, y_pred2)\n",
        "print(\"Accuracy:\", accuracy)"
      ]
    },
    {
      "cell_type": "markdown",
      "metadata": {},
      "source": [
        "#### 5.3 Minibatch Gradient Descent với Momentum"
      ]
    },
    {
      "cell_type": "code",
      "execution_count": 24,
      "metadata": {},
      "outputs": [
        {
          "name": "stdout",
          "output_type": "stream",
          "text": [
            "Mini-batch Gradient Descent with 64 mini-batches ...\n",
            "Cost value after 1 epoch(s): 0.008675153482013056\n",
            "Cost value after 100 epoch(s): 0.001588826481282945\n",
            "Cost value after 200 epoch(s): 0.001548369124473155\n",
            "Cost value after 300 epoch(s): 0.0015262792732352105\n",
            "Cost value after 400 epoch(s): 0.0015140155087631497\n",
            "Cost value after 500 epoch(s): 0.0015072180316167546\n",
            "Cost value after 600 epoch(s): 0.0015012656289799674\n",
            "Cost value after 700 epoch(s): 0.0014959967193481508\n",
            "Cost value after 800 epoch(s): 0.0014934812577873334\n",
            "Cost value after 900 epoch(s): 0.0014928148884385387\n",
            "Cost value after 1000 epoch(s): 0.001489591975737688\n"
          ]
        },
        {
          "data": {
            "image/png": "[encoded data removed]",
            "text/plain": [
              "<Figure size 432x288 with 1 Axes>"
            ]
          },
          "metadata": {
            "needs_background": "light"
          },
          "output_type": "display_data"
        }
      ],
      "source": [
        "svm_minibatch_momentum = SVM(learning_rate=0.001, num_epochs=1000, C=0.3,\n",
        "          mini_batch_size=64, print_costs=True,\n",
        "          optimizer='momentum')\n",
        "svm_minibatch_momentum.fit(X_train, y_train)\n",
        "svm_minibatch_momentum.plot_cost_history()"
      ]
    },
    {
      "cell_type": "code",
      "execution_count": 25,
      "metadata": {},
      "outputs": [
        {
          "name": "stdout",
          "output_type": "stream",
          "text": [
            "Accuracy: 0.9671814671814671\n"
          ]
        }
      ],
      "source": [
        "from sklearn.metrics import accuracy_score\n",
        "y_pred3 = svm_minibatch_momentum.predict(X_test)\n",
        "accuracy = accuracy_score(y_test, y_pred3)\n",
        "print(\"Accuracy:\", accuracy)"
      ]
    },
    {
      "cell_type": "markdown",
      "metadata": {},
      "source": [
        "#### 5.7 Minibatch Gradient Descent với Adam"
      ]
    },
    {
      "cell_type": "code",
      "execution_count": 28,
      "metadata": {},
      "outputs": [
        {
          "name": "stdout",
          "output_type": "stream",
          "text": [
            "Mini-batch Gradient Descent with 64 mini-batches ...\n",
            "Cost value after 1 epoch(s): 0.00584340148604727\n",
            "Cost value after 100 epoch(s): 0.0017223024227331378\n",
            "Cost value after 200 epoch(s): 0.001746870670465826\n",
            "Cost value after 300 epoch(s): 0.001754364648983219\n",
            "Cost value after 400 epoch(s): 0.00172284987954294\n",
            "Cost value after 500 epoch(s): 0.0017560542581103217\n",
            "Cost value after 600 epoch(s): 0.0017361443453387576\n",
            "Cost value after 700 epoch(s): 0.0017834340264216372\n",
            "Cost value after 800 epoch(s): 0.0017255092060515253\n",
            "Cost value after 900 epoch(s): 0.0017529293193188356\n",
            "Cost value after 1000 epoch(s): 0.0017314824189279129\n"
          ]
        },
        {
          "data": {
            "image/png": "[encoded data removed]",
            "text/plain": [
              "<Figure size 432x288 with 1 Axes>"
            ]
          },
          "metadata": {
            "needs_background": "light"
          },
          "output_type": "display_data"
        }
      ],
      "source": [
        "svm_minibatch_adam = SVM(learning_rate=0.001, num_epochs=1000, C=0.3,\n",
        "          mini_batch_size=64, print_costs=True,\n",
        "          optimizer='adam')\n",
        "svm_minibatch_adam.fit(X_train, y_train)\n",
        "svm_minibatch_adam.plot_cost_history()"
      ]
    },
    {
      "cell_type": "code",
      "execution_count": 29,
      "metadata": {},
      "outputs": [
        {
          "name": "stdout",
          "output_type": "stream",
          "text": [
            "Accuracy: 0.971042471042471\n"
          ]
        }
      ],
      "source": [
        "from sklearn.metrics import accuracy_score\n",
        "y_pred4 = svm_minibatch_adam.predict(X_test)\n",
        "accuracy = accuracy_score(y_test, y_pred4)\n",
        "print(\"Accuracy:\", accuracy)"
      ]
    },
    {
      "cell_type": "markdown",
      "metadata": {},
      "source": [
        "Dưới đây là bảng so sánh cho cái nhìn trực quan hơn:\n",
        "\n",
        "<table> \n",
        "    <tr>\n",
        "        <td>\n",
        "        <b>Phương pháp tối ưu</b>\n",
        "        </td>\n",
        "        <td>\n",
        "        <b>Độ chính xác</b>\n",
        "        </td>\n",
        "    </tr>\n",
        "        <td>\n",
        "        Batch Gradient descent\n",
        "        </td>\n",
        "        <td>\n",
        "        95.2%\n",
        "        </td>\n",
        "    <tr>\n",
        "        <td>\n",
        "        Mini-batch with GD\n",
        "        </td>\n",
        "        <td>\n",
        "        96.7%\n",
        "        </td>\n",
        "    </tr>\n",
        "    <tr>\n",
        "        <td>\n",
        "        Mini-batch with Momentum\n",
        "        </td>\n",
        "        <td>\n",
        "        96.7%\n",
        "        </td>\n",
        "    </tr>\n",
        "    <tr>\n",
        "        <td>\n",
        "        Mini-batch with adam\n",
        "        </td>\n",
        "        <td>\n",
        "        97.1%\n",
        "        </td>\n",
        "    </tr>\n",
        "</table> "
      ]
    },
    {
      "cell_type": "markdown",
      "metadata": {},
      "source": [
        "### 6. Kết luận"
      ]
    },
    {
      "cell_type": "markdown",
      "metadata": {},
      "source": [
        "Trong trường hợp của tập dữ liệu emails thì Thuật toán tối ưu Adam vượt trội hơn so với các thuật toán còn lại. Dựa vào kết quả huấn luyện và kiểm thử, ta có thể rút ra một vài ưu, nhược điểm của các thuật toán trên như sau:\n",
        "\n",
        "**1. Batch Gradient Descent (BGD)**\n",
        "- Ưu điểm: Thông thường BGD sẽ hội tụ một cách đều đặn nếu cost function là một hàm lồi, từ đó tiến đến tối ưu toàn cục\n",
        "- Nhược điểm: BGD cần tính toán gradient cho toàn bộ dữ liệu đào tạo tại mỗi vòng lặp, điều này đặc biệt tốn kém với các tập dữ liệu lớn. Cụ thể, BGD mất đến 3 phút 29 giây để hoàn tất 1000 epochs, trong khi các thuật toán với mini-batch chỉ mất khoảng 30 giây\n",
        "\n",
        "**2. Mini-batch Gradient Descent**\n",
        "- Ưu điểm: Minibatch GD sử dụng một phần nhỏ của dữ liệu đào tạo (phù hợp với dữ liệu lớn) tại mỗi vòng lặp, giúp giảm thời gian tính toán so với BGD và vẫn đủ chính xác.\n",
        "- Nhược điểm: Thường thì mini-batch sẽ khó hội tụ chính xác như BGD xét trên hàm lồi. \n",
        "\n",
        "**3. Momentum**\n",
        "- Ưu điểm: Momentum giúp tăng tốc quá trình hội tụ bằng cách tích lũy đà vào quá trình cập nhật trọng số. Nó cũng giúp giảm độ dao động và ổn định quá trình hội tụ.\n",
        "- Nhược điểm: Việc hiệu chỉnh các hyperparameter có lẽ là một trở ngại, cần thử nghiệm nhiều lần\n",
        "\n",
        "**4. Adam**\n",
        "- Ưu điểm: Nó tích hợp đà (momentum) để tăng tốc hội tụ và điều chỉnh tỷ lệ học tập (learning rate) tự động. Hiệu suất cao (tốc độ hội tụ cao và độ chính khác cũng cao), khá ổn định.\n",
        "- Nhược điểm: Việc hiệu chỉnh các siêu tham số có thể là một trở ngại, cần thử nghiệm nhiều lần\n"
      ]
    }
  ],
  "metadata": {
    "colab": {
      "provenance": []
    },
    "kernelspec": {
      "display_name": "Python 3",
      "name": "python3"
    },
    "language_info": {
      "codemirror_mode": {
        "name": "ipython",
        "version": 3
      },
      "file_extension": ".py",
      "mimetype": "text/x-python",
      "name": "python",
      "nbconvert_exporter": "python",
      "pygments_lexer": "ipython3",
      "version": "3.9.7"
    }
  },
  "nbformat": 4,
  "nbformat_minor": 0
}
